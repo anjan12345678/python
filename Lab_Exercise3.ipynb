{
 "cells": [
  {
   "cell_type": "markdown",
   "metadata": {},
   "source": [
    "# Numpy Exercise  <img src = \"numpy1.png\">\n",
    "###### Authored by T.K.Senthil Kumar"
   ]
  },
  {
   "cell_type": "markdown",
   "metadata": {},
   "source": [
    "#### 1. Create a numpy array with the number of elements equals your age. The value of array elements is a random number between 10 to your age "
   ]
  },
  {
   "cell_type": "code",
   "execution_count": 2,
   "metadata": {},
   "outputs": [
    {
     "name": "stdout",
     "output_type": "stream",
     "text": [
      "[21 19 18 10 19 15 21 15 18 20 15 14 20 12 22 15 19 15 21 14 20 22 22]\n"
     ]
    }
   ],
   "source": [
    "import numpy as np\n",
    "arr =np.random.randint(10,23,23)\n",
    "print(arr)"
   ]
  },
  {
   "cell_type": "markdown",
   "metadata": {},
   "source": [
    "#### 2. Create a numpy array between 1 to 50 with the span(space) of 2 and print the length of the array"
   ]
  },
  {
   "cell_type": "code",
   "execution_count": 5,
   "metadata": {},
   "outputs": [
    {
     "name": "stdout",
     "output_type": "stream",
     "text": [
      "[ 1  3  5  7  9 11 13 15 17 19 21 23 25 27 29 31 33 35 37 39 41 43 45 47\n",
      " 49]\n",
      "length is: 25\n"
     ]
    }
   ],
   "source": [
    "sp =np.arange(1,50,2)\n",
    "print(sp)\n",
    "print(\"length is:\", len(sp))"
   ]
  },
  {
   "cell_type": "markdown",
   "metadata": {},
   "source": [
    "#### 3. Create an equally spaced numpy array with 27 elements between 4 and 7 "
   ]
  },
  {
   "cell_type": "code",
   "execution_count": 6,
   "metadata": {},
   "outputs": [
    {
     "name": "stdout",
     "output_type": "stream",
     "text": [
      "[4.         4.11538462 4.23076923 4.34615385 4.46153846 4.57692308\n",
      " 4.69230769 4.80769231 4.92307692 5.03846154 5.15384615 5.26923077\n",
      " 5.38461538 5.5        5.61538462 5.73076923 5.84615385 5.96153846\n",
      " 6.07692308 6.19230769 6.30769231 6.42307692 6.53846154 6.65384615\n",
      " 6.76923077 6.88461538 7.        ]\n"
     ]
    }
   ],
   "source": [
    "num =np.linspace(4,7,27)\n",
    "print(num)"
   ]
  },
  {
   "cell_type": "markdown",
   "metadata": {},
   "source": [
    "#### 4. Create a matrix of size (5 x 4) with random numbers and round off the each elements by only 2 fractional points."
   ]
  },
  {
   "cell_type": "code",
   "execution_count": 7,
   "metadata": {},
   "outputs": [
    {
     "name": "stdout",
     "output_type": "stream",
     "text": [
      "matrix is: \n",
      " [[-0.27902908 -0.40939658  0.72230109  0.29212202]\n",
      " [-1.02370858  1.1897118   0.15946328  0.05427197]\n",
      " [ 0.03133768  1.67599297  1.6716068   1.13827195]\n",
      " [-0.80605774 -0.45591473 -0.40644498  1.20068824]\n",
      " [-0.75343756  0.81161337 -0.18105718 -0.07592316]]\n",
      "rounded matrix is: \n",
      " [[-0.28 -0.41  0.72  0.29]\n",
      " [-1.02  1.19  0.16  0.05]\n",
      " [ 0.03  1.68  1.67  1.14]\n",
      " [-0.81 -0.46 -0.41  1.2 ]\n",
      " [-0.75  0.81 -0.18 -0.08]]\n"
     ]
    }
   ],
   "source": [
    "mp = np.random.randn(5,4)\n",
    "print(\"matrix is: \\n\",mp)\n",
    "roundoff_matrix = np.round(mp,2)\n",
    "print(\"rounded matrix is: \\n\", roundoff_matrix)\n"
   ]
  },
  {
   "cell_type": "markdown",
   "metadata": {},
   "source": [
    "#### 5. Create a matrix of size (5x5) with random integers between 5 to 15"
   ]
  },
  {
   "cell_type": "code",
   "execution_count": 8,
   "metadata": {},
   "outputs": [
    {
     "name": "stdout",
     "output_type": "stream",
     "text": [
      "[[10 12 13 11 10]\n",
      " [ 8  6  9  5  5]\n",
      " [ 9 12  6  9 11]\n",
      " [13  8  6 13  7]\n",
      " [ 8  7  6 14  5]]\n"
     ]
    }
   ],
   "source": [
    "n1 = np.random.randint(5,15,(5,5))\n",
    "print(n1)\n"
   ]
  },
  {
   "cell_type": "markdown",
   "metadata": {},
   "source": [
    "#### 6. Create the one dimensional array of zeros of random length below 20 with the data type int32"
   ]
  },
  {
   "cell_type": "code",
   "execution_count": 9,
   "metadata": {},
   "outputs": [
    {
     "name": "stdout",
     "output_type": "stream",
     "text": [
      "[0 0 0 0 0 0 0 0 0 0 0 0 0 0]\n"
     ]
    }
   ],
   "source": [
    "ar1 = np.zeros(14, dtype=int)\n",
    "print(ar1)\n"
   ]
  },
  {
   "cell_type": "markdown",
   "metadata": {},
   "source": [
    "#### 7. Create a two dimensional array of ones of random row and column lengths with the data type of float32 "
   ]
  },
  {
   "cell_type": "code",
   "execution_count": 10,
   "metadata": {},
   "outputs": [
    {
     "name": "stdout",
     "output_type": "stream",
     "text": [
      "[[1. 1. 1. 1.]\n",
      " [1. 1. 1. 1.]]\n"
     ]
    }
   ],
   "source": [
    "d2 = np.ones((2,4), dtype=float)\n",
    "print(d2)\n"
   ]
  },
  {
   "cell_type": "markdown",
   "metadata": {},
   "source": [
    "#### 8. Create a matrix exactly as same as shown below and print its shape, type and dtype\n",
    "<img src = \"np_mat1.png\">"
   ]
  },
  {
   "cell_type": "code",
   "execution_count": 11,
   "metadata": {},
   "outputs": [
    {
     "name": "stdout",
     "output_type": "stream",
     "text": [
      "[[ 9 25 50 34 45]\n",
      " [ 3 34 34 65  2]\n",
      " [ 5  7  3 76  3]\n",
      " [ 7  8  6 54  6]\n",
      " [23 12  8  5  8]]\n",
      "(5, 5)\n",
      "<class 'numpy.ndarray'>\n",
      "int32\n"
     ]
    }
   ],
   "source": [
    "a = np.array([[9,25,50,34,45], [3,34,34,65,2], [5,7,3,76,3], [7,8,6,54,6], [23,12,8,5,8]])\n",
    "print(a)\n",
    "print(a.shape)\n",
    "print(type(a))\n",
    "print(a.dtype)\n"
   ]
  },
  {
   "cell_type": "markdown",
   "metadata": {},
   "source": [
    "#### 9. Access the center pixel of the matrix defined in the question no 8 ( Don't enter the row and column index explicitely)"
   ]
  },
  {
   "cell_type": "code",
   "execution_count": 12,
   "metadata": {},
   "outputs": [
    {
     "name": "stdout",
     "output_type": "stream",
     "text": [
      "[[ 9 25 50 34 45]\n",
      " [ 3 34 34 65  2]\n",
      " [ 5  7  3 76  3]\n",
      " [ 7  8  6 54  6]\n",
      " [23 12  8  5  8]]\n",
      "Center pixel for the matrix is  3\n"
     ]
    }
   ],
   "source": [
    "a = np.array([[9,25,50,34,45], [3,34,34,65,2], [5,7,3,76,3], [7,8,6,54,6], [23,12,8,5,8]])\n",
    "print(a)\n",
    "d =a.flatten()\n",
    "center =d[int(len(d)/2)]\n",
    "print(\"Center pixel for the matrix is \", center)\n"
   ]
  },
  {
   "cell_type": "markdown",
   "metadata": {},
   "source": [
    "#### 10. Print the all the elements of 3rd row of the matrix"
   ]
  },
  {
   "cell_type": "code",
   "execution_count": 14,
   "metadata": {},
   "outputs": [
    {
     "name": "stdout",
     "output_type": "stream",
     "text": [
      "row3: [[ 5  7  3 76  3]]\n"
     ]
    }
   ],
   "source": [
    "print(\"row3:\", a[[2], :])\n"
   ]
  },
  {
   "cell_type": "markdown",
   "metadata": {},
   "source": [
    "#### 11. Print the all the elements of 4th columns of the matrix"
   ]
  },
  {
   "cell_type": "code",
   "execution_count": 15,
   "metadata": {},
   "outputs": [
    {
     "name": "stdout",
     "output_type": "stream",
     "text": [
      "column4: [[34]\n",
      " [65]\n",
      " [76]\n",
      " [54]\n",
      " [ 5]]\n"
     ]
    }
   ],
   "source": [
    "print(\"column4:\", a[:,[3]])\n"
   ]
  },
  {
   "cell_type": "markdown",
   "metadata": {},
   "source": [
    "#### 12. Print the 4 corner pixels of the matrix"
   ]
  },
  {
   "cell_type": "code",
   "execution_count": 16,
   "metadata": {},
   "outputs": [
    {
     "name": "stdout",
     "output_type": "stream",
     "text": [
      "[[ 9 45]\n",
      " [23  8]]\n"
     ]
    }
   ],
   "source": [
    "max3 =a[[0,-1]][:,[0,-1]]\n",
    "print(max3)\n"
   ]
  },
  {
   "cell_type": "markdown",
   "metadata": {},
   "source": [
    "#### 13. Create three matrix m1,m2,m3 with the elements grouped in the figure below\n",
    "<img src = \"np_mat2.png\">"
   ]
  },
  {
   "cell_type": "code",
   "execution_count": 17,
   "metadata": {},
   "outputs": [
    {
     "name": "stdout",
     "output_type": "stream",
     "text": [
      "m1: \n",
      " [[50 34]\n",
      " [34 65]]\n",
      "m2: \n",
      " [[ 7  8]\n",
      " [23 12]]\n",
      "m3: \n",
      " [[ 3 76  3]\n",
      " [ 6 54  6]\n",
      " [ 8  5  8]]\n"
     ]
    }
   ],
   "source": [
    "m1 =a[:2,2:4]\n",
    "print(\"m1: \\n\",m1)\n",
    "\n",
    "m2 =a[3:,0:2]\n",
    "print(\"m2: \\n\",m2)\n",
    "\n",
    "m3 =a[2:,2:5]\n",
    "print(\"m3: \\n\",m3)\n"
   ]
  },
  {
   "cell_type": "markdown",
   "metadata": {},
   "source": [
    "#### 14. Reshape all the three matrix segmented in the above task in to three  1-dimensional vector."
   ]
  },
  {
   "cell_type": "code",
   "execution_count": 18,
   "metadata": {},
   "outputs": [
    {
     "name": "stdout",
     "output_type": "stream",
     "text": [
      "Reshaped M1:  [50 34 34 65]\n",
      "Reshaped M2:  [ 7  8 23 12]\n",
      "Reshaped M3:  [ 3 76  3  6 54  6  8  5  8]\n"
     ]
    }
   ],
   "source": [
    "reshaped_m1 =m1.flatten()\n",
    "print(\"Reshaped M1: \",reshaped_m1)\n",
    "reshaped_m2 =m2.flatten()\n",
    "print(\"Reshaped M2: \",reshaped_m2)\n",
    "reshaped_m3 =m3.flatten()\n",
    "print(\"Reshaped M3: \",reshaped_m3)\n"
   ]
  },
  {
   "cell_type": "markdown",
   "metadata": {},
   "source": [
    "#### 15. Concatenate the matrix m1 and m2 in both vertical and horizontal direction"
   ]
  },
  {
   "cell_type": "code",
   "execution_count": 19,
   "metadata": {},
   "outputs": [
    {
     "name": "stdout",
     "output_type": "stream",
     "text": [
      "Vertical matrix is: \n",
      " [[50 34]\n",
      " [34 65]\n",
      " [ 7  8]\n",
      " [23 12]]\n",
      "Horizontal matrix is: \n",
      " [[50 34  7  8]\n",
      " [34 65 23 12]]\n"
     ]
    }
   ],
   "source": [
    "vertical=np.vstack((m1,m2))\n",
    "horizontal=np.hstack((m1,m2))\n",
    "\n",
    "print(\"Vertical matrix is: \\n\",vertical)\n",
    "print(\"Horizontal matrix is: \\n\",horizontal)"
   ]
  },
  {
   "cell_type": "markdown",
   "metadata": {},
   "source": [
    "#### 16. Add, Subtract, multiply, divide the matrixes m1 and m2"
   ]
  },
  {
   "cell_type": "code",
   "execution_count": 20,
   "metadata": {},
   "outputs": [
    {
     "name": "stdout",
     "output_type": "stream",
     "text": [
      "matrix add: \n",
      " [[57 42]\n",
      " [57 77]]\n",
      "matrix subtract: \n",
      " [[43 26]\n",
      " [11 53]]\n",
      "matrix multiplication: \n",
      " [[1132  808]\n",
      " [1733 1052]]\n",
      "matrix divide: \n",
      " [[7.14285714 4.25      ]\n",
      " [1.47826087 5.41666667]]\n"
     ]
    }
   ],
   "source": [
    "print(\"matrix add: \\n\",np.add(m1,m2))\n",
    "print(\"matrix subtract: \\n\",np.subtract(m1,m2))\n",
    "print(\"matrix multiplication: \\n\",np.matmul(m1,m2))\n",
    "print(\"matrix divide: \\n\",np.divide(m1,m2))\n"
   ]
  },
  {
   "cell_type": "markdown",
   "metadata": {},
   "source": [
    "#### 17. Add the m1 with m3 by removing the first row and last column of m3"
   ]
  },
  {
   "cell_type": "code",
   "execution_count": 22,
   "metadata": {},
   "outputs": [
    {
     "name": "stdout",
     "output_type": "stream",
     "text": [
      "new m3: \n",
      " [[ 6 54]\n",
      " [ 8  5]]\n",
      "m1+m3: \n",
      " [[56 88]\n",
      " [42 70]]\n"
     ]
    }
   ],
   "source": [
    "r1 =np.delete(m3,0,0)\n",
    "r1 =np.delete(r1,2,1)\n",
    "print(\"new m3: \\n\", r1)\n",
    "print(\"m1+m3: \\n\",m1+r1)\n"
   ]
  },
  {
   "cell_type": "markdown",
   "metadata": {},
   "source": [
    "#### 18. Form the matrix m4 by concatenating (as a new row) the vector [me1, me2] with the matrix m1, where me1 and me2 are the mean values of each column on m1."
   ]
  },
  {
   "cell_type": "code",
   "execution_count": 23,
   "metadata": {},
   "outputs": [
    {
     "name": "stdout",
     "output_type": "stream",
     "text": [
      "m4: \n",
      " [[50. 34.]\n",
      " [34. 65.]\n",
      " [42. 10.]]\n"
     ]
    }
   ],
   "source": [
    "me1 =m1[:,0].mean()\n",
    "me2 =m2[:,1].mean()\n",
    "matrixme =np.array([[me1,me2]])\n",
    "m4 =np.concatenate((m1,matrixme),axis=0)\n",
    "print(\"m4: \\n\", m4)\n"
   ]
  },
  {
   "cell_type": "markdown",
   "metadata": {},
   "source": [
    "#### 19. Perform the matrix multiplication between m3 and m4"
   ]
  },
  {
   "cell_type": "code",
   "execution_count": 24,
   "metadata": {},
   "outputs": [
    {
     "name": "stdout",
     "output_type": "stream",
     "text": [
      "matrix multiplication: \n",
      " [[2860. 5072.]\n",
      " [2388. 3774.]\n",
      " [ 906.  677.]]\n"
     ]
    }
   ],
   "source": [
    "print(\"matrix multiplication: \\n\", np.matmul(m3,m4))\n"
   ]
  },
  {
   "cell_type": "markdown",
   "metadata": {},
   "source": [
    "#### 20. Compute the maximum and minimum value of mean, variance, standard deviation for each row of matrix created in question number 8."
   ]
  },
  {
   "cell_type": "code",
   "execution_count": 25,
   "metadata": {},
   "outputs": [
    {
     "name": "stdout",
     "output_type": "stream",
     "text": [
      "mean: \n",
      " [[32.6]\n",
      " [27.6]\n",
      " [18.8]\n",
      " [16.2]\n",
      " [11.2]]\n",
      "var: \n",
      " [[214.64]\n",
      " [548.24]\n",
      " [820.16]\n",
      " [357.76]\n",
      " [ 39.76]]\n",
      "std: \n",
      " [[14.65059726]\n",
      " [23.41452541]\n",
      " [28.63843571]\n",
      " [18.91454467]\n",
      " [ 6.30555311]]\n",
      "min mean: 11.2\n",
      "max mean: 32.6\n",
      "min var: 39.760000000000005\n",
      "max var: 820.1600000000001\n",
      "min std: 6.305553108173779\n",
      "max std: 28.63843571147\n"
     ]
    }
   ],
   "source": [
    "bm1 =np.mean(a,axis=1)[0]\n",
    "bm2 =np.mean(a,axis=1)[1]\n",
    "bm3 =np.mean(a,axis=1)[2]\n",
    "bm4 =np.mean(a,axis=1)[3]\n",
    "bm5 =np.mean(a,axis=1)[4]\n",
    "mean =np.vstack([bm1,bm2,bm3,bm4,bm5])\n",
    "print(\"mean: \\n\", mean)\n",
    "\n",
    "w1 =np.var(a,axis=1)[0]\n",
    "w2 =np.var(a,axis=1)[1]\n",
    "w3 =np.var(a,axis=1)[2]\n",
    "w4 =np.var(a,axis=1)[3]\n",
    "w5 =np.var(a,axis=1)[4]\n",
    "var =np.vstack([w1,w2,w3,w4,w5])\n",
    "print(\"var: \\n\", var)\n",
    "\n",
    "\n",
    "dx1 =np.std(a,axis=1)[0]\n",
    "dx2 =np.std(a,axis=1)[1]\n",
    "dx3 =np.std(a,axis=1)[2]\n",
    "dx4 =np.std(a,axis=1)[3]\n",
    "dx5 =np.std(a,axis=1)[4]\n",
    "std =np.vstack([dx1,dx2,dx3,dx4,dx5])\n",
    "print(\"std: \\n\", std)\n",
    "\n",
    "print(\"min mean:\" ,np.min(mean))\n",
    "print(\"max mean:\" ,np.max(mean))\n",
    "print(\"min var:\" ,np.min(var))\n",
    "print(\"max var:\" ,np.max(var))\n",
    "print(\"min std:\" ,np.min(std))\n",
    "print(\"max std:\" ,np.max(std))\n"
   ]
  },
  {
   "cell_type": "markdown",
   "metadata": {},
   "source": [
    "#### 21. Compute the average and strike rate for each player and sort it decending way (seperately for avg and strike rate)\n",
    "<img src = 'crick1.png'>"
   ]
  },
  {
   "cell_type": "code",
   "execution_count": 26,
   "metadata": {},
   "outputs": [
    {
     "name": "stdout",
     "output_type": "stream",
     "text": [
      "average for each player: \n",
      " [[47.25]\n",
      " [53.5 ]\n",
      " [51.5 ]\n",
      " [29.  ]\n",
      " [13.25]]\n",
      "descending order for player's average: \n",
      " [[53.5 ]\n",
      " [51.5 ]\n",
      " [47.25]\n",
      " [29.  ]\n",
      " [13.25]]\n",
      "strikerate for each player: \n",
      " [[ 98.4375    ]\n",
      " [101.42180095]\n",
      " [ 94.93087558]\n",
      " [161.11111111]\n",
      " [ 49.53271028]]\n",
      "descending order for player's strike rate: \n",
      " [[161.11111111]\n",
      " [101.42180095]\n",
      " [ 98.4375    ]\n",
      " [ 94.93087558]\n",
      " [ 49.53271028]]\n"
     ]
    }
   ],
   "source": [
    "runs =np.array([[54,60,10,65], [102,2,78,32], [3,110,1,92], [56,6,12,42], [12,8,22,11]])\n",
    "balls =np.array([[50,42,22,78], [95,8,65,43], [9,100,7,101], [27,3,11,31], [24,20,36,27]])\n",
    "\n",
    "Msd =np.average(runs, axis=1)[0]\n",
    "Kholi =np.average(runs, axis=1)[1]\n",
    "Rohit =np.average(runs, axis=1)[2]\n",
    "Rahul =np.average(runs, axis=1)[3]\n",
    "Dhawan =np.average(runs, axis=1)[4]\n",
    "avg =np.vstack([Msd,Kholi,Rohit,Rahul,Dhawan])\n",
    "print(\"average for each player: \\n\", avg)\n",
    "print(\"descending order for player's average: \\n\", np.sort(avg, axis=0)[::-1])\n",
    "\n",
    "Msrun =np.sum(runs, axis=1)[0]\n",
    "Msball =np.sum(balls, axis=1)[0]\n",
    "Khrun =np.sum(runs, axis=1)[1]\n",
    "Khball =np.sum(balls, axis=1)[1]\n",
    "Rhrun =np.sum(runs, axis=1)[2]\n",
    "Rhball =np.sum(balls, axis=1)[2]\n",
    "Rlrun =np.sum(runs, axis=1)[3]\n",
    "Rlball =np.sum(balls, axis=1)[3]\n",
    "Dhrun =np.sum(runs, axis=1)[4]\n",
    "Dhball =np.sum(balls, axis=1)[4]\n",
    "\n",
    "totalrun =np.vstack([Msrun,Khrun,Rhrun,Rlrun,Dhrun])\n",
    "totalball =np.vstack([Msball,Khball,Rhball,Rlball,Dhball])\n",
    "strikerate =np.divide(totalrun,totalball)*100\n",
    "print(\"strikerate for each player: \\n\", strikerate)\n",
    "print(\"descending order for player's strike rate: \\n\", np.sort(strikerate, axis=0)[::-1])\n"
   ]
  },
  {
   "cell_type": "markdown",
   "metadata": {},
   "source": [
    "#### 22. The students mark was recorded in a numpy array: marks = np.array([65,84,47,56,89,98,48,77,80,39]).  Cutoff for pass is 50 marks. Write the logic to print the number of students passed and failed. "
   ]
  },
  {
   "cell_type": "code",
   "execution_count": 27,
   "metadata": {},
   "outputs": [
    {
     "name": "stdout",
     "output_type": "stream",
     "text": [
      "no of students passed: 7\n",
      "no of students failed: 3\n"
     ]
    }
   ],
   "source": [
    "marks =np.array([65,84,47,56,89,98,48,77,80,39])\n",
    "passed =(marks[:]>=50).sum()\n",
    "failed =(marks[:]<=50).sum()\n",
    "print(\"no of students passed:\", passed)\n",
    "print(\"no of students failed:\", failed)\n"
   ]
  },
  {
   "cell_type": "markdown",
   "metadata": {},
   "source": [
    "#### 23. The class incharge decided to give a mercy mark of 5 for those who scored between 45 and 49. Also the bonus of 5 marks awarded to the students who scored more than 80. Print all the student marks and compute the increase in the pass percentage of class. Any score more than 100 must be recorded as only 100."
   ]
  },
  {
   "cell_type": "code",
   "execution_count": 28,
   "metadata": {},
   "outputs": [
    {
     "name": "stdout",
     "output_type": "stream",
     "text": [
      "Initial student marks: [65 84 47 56 89 98 48 77 80 39]\n",
      "students passed: 7 , students failed: 3\n",
      "initial class pass percentage: 70.0\n",
      "New array obtained after mercy marks: [ 65  89  52  56  94 100  53  77  80  39]\n",
      "students passed: 9 , students failed: 1\n",
      "new class pass percentage: 90.0\n",
      "increase in class percentage: 20.0\n"
     ]
    }
   ],
   "source": [
    "marks =np.array([65,84,47,56,89,98,48,77,80,39])\n",
    "print(\"Initial student marks:\",marks)\n",
    "print(\"students passed:\",(marks>=50).sum(), \", students failed:\",((marks)<50).sum())\n",
    "tot= len(marks)\n",
    "passrate= np.divide(passed,tot)*100\n",
    "print(\"initial class pass percentage:\", passrate)\n",
    "\n",
    "for i in range(0,tot):\n",
    "    if(((marks[i]>45)&(marks[i]<49))|(marks[i]>80)):\n",
    "        marks[i]=marks[i]+5\n",
    "        if (marks[i]>=100):\n",
    "            marks[i]=100\n",
    "            \n",
    "print(\"New array obtained after mercy marks:\",marks)\n",
    "newpassvalue= (marks[:]>=50).sum()\n",
    "newpassrate= np.divide(newpassvalue,tot)*100\n",
    "print(\"students passed:\",(marks>=50).sum(), \", students failed:\",((marks)<50).sum())\n",
    "print(\"new class pass percentage:\",newpassrate)\n",
    "print(\"increase in class percentage:\",newpassrate-passrate)\n"
   ]
  },
  {
   "cell_type": "markdown",
   "metadata": {},
   "source": [
    "#### 24. Print the time taken for performing the following operation using list and numpy array\n",
    "####       (x(i)^2 +8) / y(i),   where x and y are real integers from 1 to 60000"
   ]
  },
  {
   "cell_type": "code",
   "execution_count": 31,
   "metadata": {},
   "outputs": [
    {
     "name": "stdout",
     "output_type": "stream",
     "text": [
      "Wall time: 64.1 ms\n",
      "The time taken to perform the operation by list is: 0.06414341926574707\n",
      "Wall time: 29.9 ms\n",
      "The time taken to perform the operation by numpy is: 0.029888629913330078\n"
     ]
    }
   ],
   "source": [
    "import time\n",
    "def lis():\n",
    "    axa = list(range(1,60000))\n",
    "    byb = list(range(1,60000))\n",
    "    fin = []\n",
    "    for i in range(len(axa)):\n",
    "        fin.append(((axa[i]**2)+8)/byb[i])\n",
    "\n",
    "def nump():\n",
    "    axa2 = np.array(range(1,60000))\n",
    "    byb2 = np.array(range(1,60000))\n",
    "    fin = ((axa2**2)+8)/byb2\n",
    "st_time = time.time()\n",
    "%time lis()\n",
    "end_time = time.time()\n",
    "print(\"The time taken to perform the operation by list is:\", end_time-st_time)\n",
    "st2_time = time.time()\n",
    "%time nump()\n",
    "end2_time = time.time()\n",
    "print(\"The time taken to perform the operation by numpy is:\", end2_time-st2_time)"
   ]
  },
  {
   "cell_type": "markdown",
   "metadata": {},
   "source": [
    "#### 25. Create a Github account and upload your solution with the short write-up on Numpy"
   ]
  },
  {
   "cell_type": "code",
   "execution_count": 32,
   "metadata": {},
   "outputs": [
    {
     "data": {
      "text/plain": [
       "'NumPy is a Python library used for working with arrays.\\nIt also has functions for working in domain of linear algebra, fourier transform, and matrices.'"
      ]
     },
     "execution_count": 32,
     "metadata": {},
     "output_type": "execute_result"
    }
   ],
   "source": [
    "#https://github.com/anjan12345678/python\n",
    "'''NumPy is a Python library used for working with arrays.\n",
    "It also has functions for working in domain of linear algebra, fourier transform, and matrices.'''"
   ]
  },
  {
   "cell_type": "code",
   "execution_count": null,
   "metadata": {},
   "outputs": [],
   "source": []
  }
 ],
 "metadata": {
  "kernelspec": {
   "display_name": "Python 3",
   "language": "python",
   "name": "python3"
  },
  "language_info": {
   "codemirror_mode": {
    "name": "ipython",
    "version": 3
   },
   "file_extension": ".py",
   "mimetype": "text/x-python",
   "name": "python",
   "nbconvert_exporter": "python",
   "pygments_lexer": "ipython3",
   "version": "3.8.8"
  }
 },
 "nbformat": 4,
 "nbformat_minor": 2
}
